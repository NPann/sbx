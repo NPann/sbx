{
 "cells": [
  {
   "cell_type": "code",
   "execution_count": 1,
   "metadata": {},
   "outputs": [],
   "source": [
    "%reload_ext autoreload\n",
    "%autoreload 2\n",
    "%matplotlib inline"
   ]
  },
  {
   "cell_type": "code",
   "execution_count": 2,
   "metadata": {},
   "outputs": [],
   "source": [
    "import sys\n",
    "import os\n",
    "import re\n",
    "import flywheel"
   ]
  },
  {
   "cell_type": "code",
   "execution_count": 4,
   "metadata": {},
   "outputs": [],
   "source": [
    "fw = flywheel.Client()"
   ]
  },
  {
   "cell_type": "code",
   "execution_count": 12,
   "metadata": {},
   "outputs": [],
   "source": [
    "project = fw.lookup('scien/tome')"
   ]
  },
  {
   "cell_type": "code",
   "execution_count": 17,
   "metadata": {},
   "outputs": [],
   "source": [
    "session = project.sessions()[0]"
   ]
  },
  {
   "cell_type": "code",
   "execution_count": 8,
   "metadata": {},
   "outputs": [],
   "source": [
    "def _dcm_from_archive_slow(file_entry, acq):\n",
    "    \"\"\"\n",
    "    For a given file entry, read a dicom file from the archive and return a pydicom object.\n",
    "    Method here will read the dicom file from the archive as raw data and read that raw data into pydicom\n",
    "    \"\"\"\n",
    "    import pydicom\n",
    "    from pydicom.filebase import DicomBytesIO\n",
    "   \n",
    "    # Check that this file is valid\n",
    "    if file_entry['type'] != 'dicom':\n",
    "        raise TypeError('must be a dicom file!')\n",
    "   \n",
    "    # This reads the raw dicom data stream into a pydicom object\n",
    "    #     (https://github.com/pydicom/pydicom/issues/653#issuecomment-449648844)\n",
    "    zip_info = acq.get_file_zip_info(file_entry['name'])\n",
    "    acq.download_file_zip_member(file_entry['name'], zip_info.members[1].path, '/tmp/dcm0.dcm')\n",
    "    dcm = pydicom.dcmread('/tmp/dcm0.dcm')\n",
    "   \n",
    "    return dcm"
   ]
  },
  {
   "cell_type": "code",
   "execution_count": 9,
   "metadata": {},
   "outputs": [],
   "source": [
    "def _dcm_from_archive(file_entry, acq):\n",
    "    \"\"\"\n",
    "    For a given file entry, read a dicom file from the archive and return a pydicom object.\n",
    "    Method here will read the dicom file from the archive as raw data and read that raw data into pydicom\n",
    "    \"\"\"\n",
    "    import pydicom\n",
    "    from pydicom.filebase import DicomBytesIO\n",
    "   \n",
    "    # Check that this file is valid\n",
    "    if file_entry['type'] != 'dicom':\n",
    "        raise TypeError('must be a dicom file!')\n",
    "   \n",
    "    # This reads the raw dicom data stream into a pydicom object\n",
    "    #     (https://github.com/pydicom/pydicom/issues/653#issuecomment-449648844)\n",
    "    zip_info = acq.get_file_zip_info(file_entry['name'])\n",
    "    raw_dcm = DicomBytesIO(acq.read_file_zip_member(file_entry['name'], zip_info.members[1].path))\n",
    "    dcm = pydicom.dcmread(raw_dcm)\n",
    "   \n",
    "    return dcm"
   ]
  },
  {
   "cell_type": "markdown",
   "metadata": {},
   "source": [
    "## Test on a small archive"
   ]
  },
  {
   "cell_type": "code",
   "execution_count": 20,
   "metadata": {},
   "outputs": [],
   "source": [
    "acq = session.acquisitions.find('label=Localizer')[0]"
   ]
  },
  {
   "cell_type": "code",
   "execution_count": 21,
   "metadata": {},
   "outputs": [],
   "source": [
    "file_entry = {'name': 'Localizer.dcm.zip', 'type': 'dicom'}"
   ]
  },
  {
   "cell_type": "code",
   "execution_count": 22,
   "metadata": {},
   "outputs": [
    {
     "name": "stdout",
     "output_type": "stream",
     "text": [
      "1.48 s ± 202 ms per loop (mean ± std. dev. of 7 runs, 1 loop each)\n"
     ]
    }
   ],
   "source": [
    "%%timeit\n",
    "_dcm_from_archive(file_entry, acq)"
   ]
  },
  {
   "cell_type": "code",
   "execution_count": 23,
   "metadata": {},
   "outputs": [
    {
     "name": "stdout",
     "output_type": "stream",
     "text": [
      "1.4 s ± 168 ms per loop (mean ± std. dev. of 7 runs, 1 loop each)\n"
     ]
    }
   ],
   "source": [
    "%%timeit\n",
    "_dcm_from_archive_slow(file_entry, acq)"
   ]
  },
  {
   "cell_type": "markdown",
   "metadata": {},
   "source": [
    "## Test on a large archive"
   ]
  },
  {
   "cell_type": "code",
   "execution_count": 26,
   "metadata": {},
   "outputs": [],
   "source": [
    "acq = session.acquisitions.find('label=rfMRI_REST_PA_Run4')[0]"
   ]
  },
  {
   "cell_type": "code",
   "execution_count": 27,
   "metadata": {},
   "outputs": [],
   "source": [
    "file_entry = {'name': 'rfMRI_REST_PA.dcm.zip', 'type': 'dicom'}"
   ]
  },
  {
   "cell_type": "code",
   "execution_count": 28,
   "metadata": {},
   "outputs": [
    {
     "name": "stdout",
     "output_type": "stream",
     "text": [
      "4 s ± 238 ms per loop (mean ± std. dev. of 7 runs, 1 loop each)\n"
     ]
    }
   ],
   "source": [
    "%%timeit\n",
    "_dcm_from_archive(file_entry, acq)"
   ]
  },
  {
   "cell_type": "code",
   "execution_count": 29,
   "metadata": {},
   "outputs": [
    {
     "name": "stdout",
     "output_type": "stream",
     "text": [
      "3.97 s ± 296 ms per loop (mean ± std. dev. of 7 runs, 1 loop each)\n"
     ]
    }
   ],
   "source": [
    "%%timeit\n",
    "_dcm_from_archive_slow(file_entry, acq)"
   ]
  }
 ],
 "metadata": {
  "kernelspec": {
   "display_name": "Python 3",
   "language": "python",
   "name": "python3"
  },
  "language_info": {
   "codemirror_mode": {
    "name": "ipython",
    "version": 3
   },
   "file_extension": ".py",
   "mimetype": "text/x-python",
   "name": "python",
   "nbconvert_exporter": "python",
   "pygments_lexer": "ipython3",
   "version": "3.7.5"
  }
 },
 "nbformat": 4,
 "nbformat_minor": 4
}
